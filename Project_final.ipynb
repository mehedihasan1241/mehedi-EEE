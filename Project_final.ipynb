{
  "nbformat": 4,
  "nbformat_minor": 0,
  "metadata": {
    "colab": {
      "provenance": [],
      "authorship_tag": "ABX9TyMpBrVyFQtZRkTD2zZyB+P5",
      "include_colab_link": true
    },
    "kernelspec": {
      "name": "python3",
      "display_name": "Python 3"
    },
    "language_info": {
      "name": "python"
    }
  },
  "cells": [
    {
      "cell_type": "markdown",
      "metadata": {
        "id": "view-in-github",
        "colab_type": "text"
      },
      "source": [
        "<a href=\"https://colab.research.google.com/github/mehedihasan1241/mehedi-EEE/blob/main/Project_final.ipynb\" target=\"_parent\"><img src=\"https://colab.research.google.com/assets/colab-badge.svg\" alt=\"Open In Colab\"/></a>"
      ]
    },
    {
      "cell_type": "code",
      "execution_count": 36,
      "metadata": {
        "id": "fyh3bq4sgy1d"
      },
      "outputs": [],
      "source": [
        "import csv\n",
        "\n",
        "with open('library.csv', 'w', newline='') as file:\n",
        "    writer = csv.writer(file)\n",
        "    field = ['BookID', 'Title', 'Author', 'Genre', 'Availability', 'Borrower']\n",
        "\n"
      ]
    },
    {
      "cell_type": "code",
      "source": [],
      "metadata": {
        "id": "q2QlbHzWxhkA"
      },
      "execution_count": null,
      "outputs": []
    },
    {
      "cell_type": "markdown",
      "source": [
        "code for read csv\n"
      ],
      "metadata": {
        "id": "cRThoOvEhQu5"
      }
    },
    {
      "cell_type": "markdown",
      "source": [],
      "metadata": {
        "id": "nPs4ygIxhNk-"
      }
    },
    {
      "cell_type": "code",
      "source": [
        "import csv\n",
        "\n",
        "def load_books():\n",
        "    books = []\n",
        "    try: # Try reading the file, handle the error if empty\n",
        "        with open('library.csv', mode='r') as file:\n",
        "            reader = csv.reader(file)\n",
        "            # Check if file has any content besides the header\n",
        "            header = next(reader, None)\n",
        "            # Only skip the header if a header is present\n",
        "            if header:\n",
        "                for row in reader:\n",
        "                    books.append({\n",
        "                        'BookID': row[0],\n",
        "                        'Title': row[1],\n",
        "                        'Author': row[2],\n",
        "                        'Genre': row[3],\n",
        "                        'Availability': row[4],\n",
        "                        'Borrower': row[5] if row[5] else None\n",
        "                    })\n",
        "    except StopIteration:\n",
        "        print(\"The 'library.csv' file is empty. Please add some books.\")\n",
        "    return books"
      ],
      "metadata": {
        "id": "ZGOOc7IZxi59"
      },
      "execution_count": 37,
      "outputs": []
    },
    {
      "cell_type": "markdown",
      "source": [
        "Code for Adding, Removing, and Updating Books:"
      ],
      "metadata": {
        "id": "pbsfOSO7hixX"
      }
    },
    {
      "cell_type": "code",
      "source": [
        "def add_book(books, book_id, title, author, genre):\n",
        "    new_book = {\n",
        "        'BookID': book_id,\n",
        "        'Title': title,\n",
        "        'Author': author,\n",
        "        'Genre': genre,\n",
        "        'Availability': 'Yes',\n",
        "        'Borrower': None\n",
        "    }\n",
        "    books.append(new_book)\n",
        "    write_books(books)\n",
        "\n",
        "def remove_book(books, book_id):\n",
        "    books = [book for book in books if book['BookID'] != book_id]\n",
        "    write_books(books)\n",
        "    return books\n",
        "\n",
        "def update_book(books, book_id, availability=None, borrower=None):\n",
        "    for book in books:\n",
        "        if book['BookID'] == book_id:\n",
        "            if availability:\n",
        "                book['Availability'] = availability\n",
        "            if borrower:\n",
        "                book['Borrower'] = borrower\n",
        "    write_books(books)\n"
      ],
      "metadata": {
        "id": "2RTnnBWBhwSY"
      },
      "execution_count": 38,
      "outputs": []
    },
    {
      "cell_type": "markdown",
      "source": [
        "Code for Borrowing and Returning Books:\n",
        "python\n",
        "Copy\n"
      ],
      "metadata": {
        "id": "5tt4vM2Oh7y1"
      }
    },
    {
      "cell_type": "code",
      "source": [
        "def borrow_book(books, book_id, borrower):\n",
        "    for book in books:\n",
        "        if book['BookID'] == book_id:\n",
        "            if book['Availability'] == 'Yes':\n",
        "                book['Availability'] = 'No'\n",
        "                book['Borrower'] = borrower\n",
        "                write_books(books)\n",
        "                return f\"{book['Title']} borrowed by {borrower}.\"\n",
        "            else:\n",
        "                return \"Sorry, this book is already borrowed.\"\n",
        "    return \"Book not found.\"\n",
        "\n",
        "def return_book(books, book_id):\n",
        "    for book in books:\n",
        "        if book['BookID'] == book_id:\n",
        "            if book['Availability'] == 'No':\n",
        "                book['Availability'] = 'Yes'\n",
        "                book['Borrower'] = None\n",
        "                write_books(books)\n",
        "                return f\"{book['Title']} has been returned.\"\n",
        "            else:\n",
        "                return \"This book was not borrowed.\"\n",
        "    return \"Book not found.\"\n"
      ],
      "metadata": {
        "id": "YG5rvyswh9uC"
      },
      "execution_count": 39,
      "outputs": []
    },
    {
      "cell_type": "markdown",
      "source": [
        "Code for Menu-Driven Interface:"
      ],
      "metadata": {
        "id": "J3K3Id8_iKTK"
      }
    },
    {
      "cell_type": "code",
      "source": [
        "def display_books(books):\n",
        "    for book in books:\n",
        "        print(f\"ID: {book['BookID']}, Title: {book['Title']}, Author: {book['Author']}, Genre: {book['Genre']}, Available: {book['Availability']}\")\n",
        "\n",
        "def main():\n",
        "    books = load_books()\n",
        "    while True:\n",
        "        print(\"\\nLibrary Management System\")\n",
        "        print(\"1. View all books\")\n",
        "        print(\"2. Add a new book\")\n",
        "        print(\"3. Remove a book\")\n",
        "        print(\"4. Update book details\")\n",
        "        print(\"5. Borrow a book\")\n",
        "        print(\"6. Return a book\")\n",
        "        print(\"7. Exit\")\n",
        "\n",
        "        choice = input(\"Enter your choice: \")\n",
        "\n",
        "        if choice == '1':\n",
        "            display_books(books)\n",
        "        elif choice == '2':\n",
        "            book_id = input(\"Enter Book ID: \")\n",
        "            title = input(\"Enter Title: \")\n",
        "            author = input(\"Enter Author: \")\n",
        "            genre = input(\"Enter Genre: \")\n",
        "            add_book(books, book_id, title, author, genre)\n",
        "        elif choice == '3':\n",
        "            book_id = input(\"Enter Book ID to remove: \")\n",
        "            books = remove_book(books, book_id)\n",
        "        elif choice == '4':\n",
        "            book_id = input(\"Enter Book ID to update: \")\n",
        "            availability = input(\"Enter Availability (Yes/No): \")\n",
        "            borrower = input(\"Enter Borrower's name (leave empty if none): \")\n",
        "            update_book(books, book_id, availability, borrower or None)\n",
        "        elif choice == '5':\n",
        "            book_id = input(\"Enter Book ID to borrow: \")\n",
        "            borrower = input(\"Enter your name: \")\n",
        "            print(borrow_book(books, book_id, borrower))\n",
        "        elif choice == '6':\n",
        "            book_id = input(\"Enter Book ID to return: \")\n",
        "            print(return_book(books, book_id))\n",
        "        elif choice == '7':\n",
        "            print(\"Exiting the system.\")\n",
        "            break\n",
        "        else:\n",
        "            print(\"Invalid choice, please try again.\")\n",
        "\n",
        "if __name__ == \"__main__\":\n",
        "    main()\n"
      ],
      "metadata": {
        "colab": {
          "base_uri": "https://localhost:8080/"
        },
        "id": "eWm85EEeiMgi",
        "outputId": "6082811b-92b0-48f2-8e56-5368989977b6"
      },
      "execution_count": null,
      "outputs": [
        {
          "output_type": "stream",
          "name": "stdout",
          "text": [
            "\n",
            "Library Management System\n",
            "1. View all books\n",
            "2. Add a new book\n",
            "3. Remove a book\n",
            "4. Update book details\n",
            "5. Borrow a book\n",
            "6. Return a book\n",
            "7. Exit\n",
            "Enter your choice: 6\n",
            "Enter Book ID to return: 4\n",
            "Book not found.\n",
            "\n",
            "Library Management System\n",
            "1. View all books\n",
            "2. Add a new book\n",
            "3. Remove a book\n",
            "4. Update book details\n",
            "5. Borrow a book\n",
            "6. Return a book\n",
            "7. Exit\n",
            "Enter your choice: 3\n",
            "Enter Book ID to remove: 2\n",
            "\n",
            "Library Management System\n",
            "1. View all books\n",
            "2. Add a new book\n",
            "3. Remove a book\n",
            "4. Update book details\n",
            "5. Borrow a book\n",
            "6. Return a book\n",
            "7. Exit\n"
          ]
        }
      ]
    }
  ]
}