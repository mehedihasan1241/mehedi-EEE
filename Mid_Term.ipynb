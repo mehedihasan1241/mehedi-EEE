{
  "nbformat": 4,
  "nbformat_minor": 0,
  "metadata": {
    "colab": {
      "provenance": [],
      "authorship_tag": "ABX9TyMtnPWYKG2Kfu6Ld1RUNNWB",
      "include_colab_link": true
    },
    "kernelspec": {
      "name": "python3",
      "display_name": "Python 3"
    },
    "language_info": {
      "name": "python"
    }
  },
  "cells": [
    {
      "cell_type": "markdown",
      "metadata": {
        "id": "view-in-github",
        "colab_type": "text"
      },
      "source": [
        "<a href=\"https://colab.research.google.com/github/mehedihasan1241/mehedi-EEE/blob/main/Mid_Term.ipynb\" target=\"_parent\"><img src=\"https://colab.research.google.com/assets/colab-badge.svg\" alt=\"Open In Colab\"/></a>"
      ]
    },
    {
      "cell_type": "code",
      "execution_count": null,
      "metadata": {
        "id": "6G0SguCJEtfC",
        "colab": {
          "base_uri": "https://localhost:8080/"
        },
        "outputId": "9545614c-5f6b-4aa3-98fe-f8dbc07f7687"
      },
      "outputs": [
        {
          "output_type": "stream",
          "name": "stdout",
          "text": [
            "Hello World\n"
          ]
        }
      ],
      "source": [
        "print('Hello World')"
      ]
    },
    {
      "cell_type": "code",
      "source": [],
      "metadata": {
        "id": "4B6YvvO7FUB1"
      },
      "execution_count": null,
      "outputs": []
    },
    {
      "cell_type": "markdown",
      "source": [
        "9.You are given a number. Write a Python program to print whether it is odd or even.\n",
        "\n",
        "\n"
      ],
      "metadata": {
        "id": "qvkb7zFJHKTF"
      }
    },
    {
      "cell_type": "code",
      "source": [
        "n = int(input())\n",
        "if n%2==0:\n",
        "  print(\"even\")\n",
        "else:\n",
        "  print(\"odd\")"
      ],
      "metadata": {
        "colab": {
          "base_uri": "https://localhost:8080/"
        },
        "id": "hZgBuZe4HNYd",
        "outputId": "8471826f-9e30-43c1-cdd6-ae7ba74ad95c"
      },
      "execution_count": null,
      "outputs": [
        {
          "output_type": "stream",
          "name": "stdout",
          "text": [
            "2345\n",
            "odd\n"
          ]
        }
      ]
    },
    {
      "cell_type": "markdown",
      "source": [
        "11.You are given a year. Write a Python program to print whether it is leap year or not.\n",
        "\n"
      ],
      "metadata": {
        "id": "GUqd0QOTIAX0"
      }
    },
    {
      "cell_type": "code",
      "source": [
        "n = int (input(\"enter a year\"))\n",
        "if (n%4==0 and n%100!=0) or (n%400==0):\n",
        "  print(\"Leap year\")\n",
        "else:\n",
        "  print(\"Not Leap year\")"
      ],
      "metadata": {
        "colab": {
          "base_uri": "https://localhost:8080/"
        },
        "id": "Gz2yiJf_I468",
        "outputId": "980495a8-8b1c-4f06-8bc1-745d4a42c937"
      },
      "execution_count": null,
      "outputs": [
        {
          "output_type": "stream",
          "name": "stdout",
          "text": [
            "enter a year2004\n",
            "Leap year\n"
          ]
        }
      ]
    },
    {
      "cell_type": "markdown",
      "source": [
        "12.You are given the coefficients a, b & c of a quadratic equation. Write a Python program to\n",
        "find its solution"
      ],
      "metadata": {
        "id": "qgw_AZlIKXVV"
      }
    },
    {
      "cell_type": "code",
      "source": [
        "import math\n",
        "a = int (input())\n",
        "b = int(input())\n",
        "c = int(input())\n",
        "x1 = (-b + math.sqrt(b**2 - 4*a*c))/2*a\n",
        "x2 = (-b -math.sqrt (b**2 - 4*a*c))/2*a\n",
        "print(x1)\n",
        "print(x2)"
      ],
      "metadata": {
        "colab": {
          "base_uri": "https://localhost:8080/"
        },
        "id": "fyIhDLF-KZOE",
        "outputId": "6f539402-32ab-47cd-e056-3599c805a1cd"
      },
      "execution_count": null,
      "outputs": [
        {
          "output_type": "stream",
          "name": "stdout",
          "text": [
            "1\n",
            "7\n",
            "12\n",
            "-3.0\n",
            "-4.0\n"
          ]
        }
      ]
    },
    {
      "cell_type": "markdown",
      "source": [
        ".You are given the coefficients a, b & c of a quadratic equation. Write a Python program to find its solution possible or not\n"
      ],
      "metadata": {
        "id": "e2XhC7uwMTdc"
      }
    },
    {
      "cell_type": "code",
      "source": [
        "import math\n",
        "a = int (input())\n",
        "b = int(input())\n",
        "c = int(input())\n",
        "if b**2 - 4*a*c >=0 :\n",
        "  print(\" possible\")\n",
        "  x1 =( -b + math.sqrt (b**2 -4*a*c))/2*a\n",
        "  x2 = (-b -math.sqrt (b**2 - 4*a*c))/2*a\n",
        "  print (x1)\n",
        "  print (x2)\n",
        "else:\n",
        "  print(\"Not possible\")\n"
      ],
      "metadata": {
        "colab": {
          "base_uri": "https://localhost:8080/"
        },
        "id": "ivxsN9WCMfz9",
        "outputId": "073cd50d-774e-4b55-90bf-9017921a8194"
      },
      "execution_count": null,
      "outputs": [
        {
          "output_type": "stream",
          "name": "stdout",
          "text": [
            "3\n",
            "4\n",
            "5\n",
            "Not possible\n"
          ]
        }
      ]
    },
    {
      "cell_type": "markdown",
      "source": [
        "13.You are given the radius of a circle. Write a program to find the area of the square\n",
        "inscribed inside the circle."
      ],
      "metadata": {
        "id": "DW-QBd5qRQyc"
      }
    },
    {
      "cell_type": "code",
      "source": [
        "\n",
        "r = int (input())\n",
        "area = (3.1416*r**2 - (r**2))\n",
        "print (area)"
      ],
      "metadata": {
        "colab": {
          "base_uri": "https://localhost:8080/"
        },
        "id": "4ubN0Xh4Rhb1",
        "outputId": "f3aa5a71-95b0-488a-a3c0-b5b4513b6d50"
      },
      "execution_count": null,
      "outputs": [
        {
          "output_type": "stream",
          "name": "stdout",
          "text": [
            "3\n",
            "19.2744\n"
          ]
        }
      ]
    },
    {
      "cell_type": "markdown",
      "source": [
        "14. You are given the mark of a student. Write a program to find his grade. [0-39: F, 40-49: E,\n",
        "50-59: D, 60-69: C, 70-79: B, 80-100: A]\n"
      ],
      "metadata": {
        "id": "rvC_Ci9GVbSF"
      }
    },
    {
      "cell_type": "code",
      "source": [
        "n = int (input())\n",
        "if n<=39:\n",
        "    print(\"F\")\n",
        "elif n<=49:\n",
        "    print (\"E\")\n",
        "elif n<=59:\n",
        "    print (\"D\")\n",
        "elif n<=69:\n",
        "    print (\"C\")\n",
        "elif n<=79:\n",
        "    print (\"B\")\n",
        "else:\n",
        "    print (\"A\")\n"
      ],
      "metadata": {
        "colab": {
          "base_uri": "https://localhost:8080/"
        },
        "id": "GLoGha7lVdZj",
        "outputId": "d953bb8f-d322-4670-f9fb-209ac9d58348"
      },
      "execution_count": null,
      "outputs": [
        {
          "output_type": "stream",
          "name": "stdout",
          "text": [
            "22\n",
            "F\n"
          ]
        }
      ]
    },
    {
      "cell_type": "markdown",
      "source": [
        "15.You are given a number. Write a program to print whether it is prime or not"
      ],
      "metadata": {
        "id": "jpUuPPiDeCN8"
      }
    },
    {
      "cell_type": "code",
      "source": [
        "n = int(input())\n",
        "\n",
        "divisor_count =0\n",
        "for i in range(2,n):\n",
        "\n",
        " if n%i==0:\n",
        "      divisor_count = divisor_count+1\n",
        "if divisor_count ==0:\n",
        "     print(\"Prime\")\n",
        "else:\n",
        "      print(\"Not Prime\")\n",
        "\n",
        "\n"
      ],
      "metadata": {
        "colab": {
          "base_uri": "https://localhost:8080/"
        },
        "id": "4EIEjBYheENr",
        "outputId": "9df3a8b9-2a33-4bf5-a3b7-93db0dad03dd"
      },
      "execution_count": null,
      "outputs": [
        {
          "output_type": "stream",
          "name": "stdout",
          "text": [
            "11\n",
            "Prime\n"
          ]
        }
      ]
    },
    {
      "cell_type": "markdown",
      "source": [
        "16. You are given a range defined by two integers. Write a program to print those which are\n",
        "leap years in the range"
      ],
      "metadata": {
        "id": "wdFqnLAnhypM"
      }
    },
    {
      "cell_type": "code",
      "source": [
        "a = int(input())\n",
        "b = int(input())\n",
        "print(\" leap yaer between {a} and {b} are:\")\n",
        "\n",
        "for i in range (a, b+1):\n",
        "  if  (i%4==0 and i%100!=0) or (i%400==0):\n",
        "    print(i)"
      ],
      "metadata": {
        "colab": {
          "base_uri": "https://localhost:8080/"
        },
        "id": "pxxRXCNHhxbs",
        "outputId": "681ef0cd-af0f-4db4-dc27-076ded8cdbe4"
      },
      "execution_count": null,
      "outputs": [
        {
          "output_type": "stream",
          "name": "stdout",
          "text": [
            "1990\n",
            "2033\n",
            " leap yaer between {a} and {b} are:\n",
            "1992\n",
            "1996\n",
            "2000\n",
            "2004\n",
            "2008\n",
            "2012\n",
            "2016\n",
            "2020\n",
            "2024\n",
            "2028\n",
            "2032\n"
          ]
        }
      ]
    },
    {
      "cell_type": "markdown",
      "source": [
        "17.You are given a range defined by two integers. Write a program to print the prime\n",
        "numbers inside the range."
      ],
      "metadata": {
        "id": "MGkIPFlwj3JF"
      }
    },
    {
      "cell_type": "code",
      "source": [
        "a = int (input(\"enter the first number:\"))\n",
        "b= int (input(\"entere the second number:\"))\n",
        "divisor_count =0\n",
        "\n",
        "\n",
        "for i in range (a, b+1):\n",
        "\n",
        "  if n%i==0:\n",
        "      divisor_count = divisor_count+1\n",
        "if divisor_count ==0:\n",
        "  print(\"prime:\" ,i)\n",
        "else:\n",
        "  print(\"Not prime\")\n",
        "\n"
      ],
      "metadata": {
        "colab": {
          "base_uri": "https://localhost:8080/"
        },
        "id": "LXwR5OBulG6r",
        "outputId": "f3b2c7ee-659e-41eb-ca10-d905d4b9540b"
      },
      "execution_count": null,
      "outputs": [
        {
          "output_type": "stream",
          "name": "stdout",
          "text": [
            "enter the first number:11\n",
            "entere the second number:33\n",
            "Not prime\n"
          ]
        }
      ]
    },
    {
      "cell_type": "code",
      "source": [
        "N = int(input(\"Enter the number:\"))\n",
        "total_sum = 0\n",
        "for i in range (N):\n",
        "  num = float(input(f\"Enter number {i+1}: \"))\n",
        "  total_sum = total_sum+ num\n",
        "average = total_sum/N\n",
        "print(average)"
      ],
      "metadata": {
        "colab": {
          "base_uri": "https://localhost:8080/"
        },
        "id": "lHwhTkzpqBpU",
        "outputId": "968e0235-57a2-47c8-b1cf-875626cee210"
      },
      "execution_count": null,
      "outputs": [
        {
          "output_type": "stream",
          "name": "stdout",
          "text": [
            "Enter the number:3\n",
            "Enter number 1: 2\n",
            "Enter number 2: 4\n",
            "Enter number 3: 5\n",
            "3.6666666666666665\n"
          ]
        }
      ]
    },
    {
      "cell_type": "markdown",
      "source": [
        "19. Let’s assume a series as: 1+3+5+7+ … + N. You will be given N as input. Write a\n",
        "program that can print the sum of this series up to N.\n"
      ],
      "metadata": {
        "id": "lsEIJHXlcnAa"
      }
    },
    {
      "cell_type": "code",
      "source": [
        "N= int(input())\n",
        "total_Sum =0\n",
        "for i in range (1,N+1,2):\n",
        "   total_Sum = total_Sum+i\n",
        "print(total_Sum)"
      ],
      "metadata": {
        "colab": {
          "base_uri": "https://localhost:8080/"
        },
        "id": "LmH5ly8Zcq1o",
        "outputId": "e9f2846f-f578-42f1-f957-675abd1ef0e6"
      },
      "execution_count": null,
      "outputs": [
        {
          "output_type": "stream",
          "name": "stdout",
          "text": [
            "12\n",
            "36\n"
          ]
        }
      ]
    },
    {
      "cell_type": "markdown",
      "source": [
        "20. You are given three integers: a, b & c. Write a program to find the minimum of these\n",
        "three numbers.\n"
      ],
      "metadata": {
        "id": "jjx1ZqPae3dJ"
      }
    },
    {
      "cell_type": "code",
      "source": [
        "a = int(input())\n",
        "b = int(input())\n",
        "c = int(input())\n",
        "minimum_value = min(a,b,c)\n",
        "print(minimum_value)"
      ],
      "metadata": {
        "colab": {
          "base_uri": "https://localhost:8080/"
        },
        "id": "8LbtErZve56J",
        "outputId": "99de1106-fe1b-49bd-adad-56701a9ed495"
      },
      "execution_count": null,
      "outputs": [
        {
          "output_type": "stream",
          "name": "stdout",
          "text": [
            " 3\n",
            "4\n",
            "6\n",
            "3\n"
          ]
        }
      ]
    },
    {
      "cell_type": "markdown",
      "source": [
        "21.You will be given an integer N and then N numbers. Write a program to find the\n",
        "maximum value of those numbers."
      ],
      "metadata": {
        "id": "m4OmMjtCfbe5"
      }
    },
    {
      "cell_type": "code",
      "source": [
        "N = int(input())\n",
        "numbers = []\n",
        "for i in range (N):\n",
        " num = int(input(f\"Enter the numbers {i+1}:\"))\n",
        " numbers.append(num)\n",
        " maximum_value = max(numbers)\n",
        "print(maximum_value)"
      ],
      "metadata": {
        "colab": {
          "base_uri": "https://localhost:8080/"
        },
        "id": "hhr3O0k3fjmx",
        "outputId": "2d20fdcf-7be6-4e2f-832f-0234f6fef857"
      },
      "execution_count": null,
      "outputs": [
        {
          "output_type": "stream",
          "name": "stdout",
          "text": [
            "4\n",
            "Enter the numbers 1:4\n",
            "Enter the numbers 2:6\n",
            "Enter the numbers 3:8\n",
            "Enter the numbers 4:99\n",
            "99\n"
          ]
        }
      ]
    },
    {
      "cell_type": "markdown",
      "source": [
        "22. Write a program to swap the values of two variables\n"
      ],
      "metadata": {
        "id": "m-cQPZIiiMvK"
      }
    },
    {
      "cell_type": "code",
      "source": [
        "a = 3\n",
        "b = 6\n",
        "c = a\n",
        "a = b\n",
        "b = c\n",
        "print(a)\n",
        "print(b)"
      ],
      "metadata": {
        "colab": {
          "base_uri": "https://localhost:8080/"
        },
        "id": "L519qyTPiSCA",
        "outputId": "9aca1c9d-8283-4ef1-f36a-e7137791787a"
      },
      "execution_count": null,
      "outputs": [
        {
          "output_type": "stream",
          "name": "stdout",
          "text": [
            "6\n",
            "3\n"
          ]
        }
      ]
    },
    {
      "cell_type": "markdown",
      "source": [
        "23.You will be given 2 3X3 matrices. Write a program to add the matrices"
      ],
      "metadata": {
        "id": "hlJiD5oDi0AT"
      }
    },
    {
      "cell_type": "code",
      "source": [
        "for i in range (5):\n",
        "  print(i)"
      ],
      "metadata": {
        "id": "mhZAYpbUi8GI",
        "colab": {
          "base_uri": "https://localhost:8080/"
        },
        "outputId": "60680c26-7cbf-459f-bc20-e4d0a2e284be"
      },
      "execution_count": null,
      "outputs": [
        {
          "output_type": "stream",
          "name": "stdout",
          "text": [
            "0\n",
            "1\n",
            "2\n",
            "3\n",
            "4\n"
          ]
        }
      ]
    },
    {
      "cell_type": "code",
      "source": [
        "def division (a,x)\n",
        "\n",
        "     return a/x"
      ],
      "metadata": {
        "id": "3IbSTXrJTdS3"
      },
      "execution_count": null,
      "outputs": []
    },
    {
      "cell_type": "code",
      "source": [
        "def sqrt"
      ],
      "metadata": {
        "id": "pu1CTK5kTws_"
      },
      "execution_count": null,
      "outputs": []
    },
    {
      "cell_type": "code",
      "source": [
        "s = \"abc\"\n",
        "print(s[-1])"
      ],
      "metadata": {
        "colab": {
          "base_uri": "https://localhost:8080/"
        },
        "id": "tv3rMeuzEagH",
        "outputId": "f4da5c66-e4f1-4a04-93cb-f697df018ca1"
      },
      "execution_count": null,
      "outputs": [
        {
          "output_type": "stream",
          "name": "stdout",
          "text": [
            "c\n"
          ]
        }
      ]
    },
    {
      "cell_type": "code",
      "source": [
        "s =\"abcdef\"\n",
        "print(s[-1:1])"
      ],
      "metadata": {
        "colab": {
          "base_uri": "https://localhost:8080/"
        },
        "id": "-yyQ_jfeFKC_",
        "outputId": "6b9057dc-fe38-448c-b2df-031c4ff25e56"
      },
      "execution_count": null,
      "outputs": [
        {
          "output_type": "stream",
          "name": "stdout",
          "text": [
            "\n"
          ]
        }
      ]
    },
    {
      "cell_type": "code",
      "source": [
        "s1 = \"abc\"\n",
        "\n",
        "s2 = \"xyz\"\n",
        "\n",
        "print(s1+s2)"
      ],
      "metadata": {
        "colab": {
          "base_uri": "https://localhost:8080/"
        },
        "id": "k5QzX416IUGH",
        "outputId": "49a1e9d1-0c40-40f0-94bf-2bbe67148e10"
      },
      "execution_count": null,
      "outputs": [
        {
          "output_type": "stream",
          "name": "stdout",
          "text": [
            "abcxyz\n"
          ]
        }
      ]
    },
    {
      "cell_type": "code",
      "source": [
        "class Bird:\n",
        "  def __init__(self,typ,color):\n",
        "    self.typ = typ\n",
        "    self.color = color\n",
        "  def call(self,s):\n",
        "      return \" Call is:\" +s"
      ],
      "metadata": {
        "id": "ueaCvGs5rvui"
      },
      "execution_count": null,
      "outputs": []
    },
    {
      "cell_type": "code",
      "source": [
        "crow = Bird (\"crow\", \"Black\")\n",
        "ostrich = Bird (\"Ostrich\", \"brown\")\n",
        "print(crow.typ)"
      ],
      "metadata": {
        "colab": {
          "base_uri": "https://localhost:8080/"
        },
        "id": "RObRqcEOtsFr",
        "outputId": "b533f92d-a5a7-41a2-d712-c22cc68cf0c3"
      },
      "execution_count": null,
      "outputs": [
        {
          "output_type": "stream",
          "name": "stdout",
          "text": [
            "crow\n"
          ]
        }
      ]
    },
    {
      "cell_type": "code",
      "source": [
        "print ( crow.call(\"kaa\"))\n"
      ],
      "metadata": {
        "colab": {
          "base_uri": "https://localhost:8080/"
        },
        "id": "3BYSIJawuTwl",
        "outputId": "9266a546-177b-409e-b9af-cd58bca98272"
      },
      "execution_count": null,
      "outputs": [
        {
          "output_type": "stream",
          "name": "stdout",
          "text": [
            " Call is:kaa\n"
          ]
        }
      ]
    },
    {
      "cell_type": "code",
      "source": [
        "class cutomer:\n",
        "  def __init__(self, name, id, kototaka):\n",
        "    self.name = name\n",
        "    self.id = id\n",
        "    self.kototaka = 0\n",
        "  def Calculatekototaka(self, price):\n",
        "      self.kototaka = self.kototaka + price\n",
        "\n"
      ],
      "metadata": {
        "id": "hAUiRgZMwT0i"
      },
      "execution_count": null,
      "outputs": []
    }
  ]
}